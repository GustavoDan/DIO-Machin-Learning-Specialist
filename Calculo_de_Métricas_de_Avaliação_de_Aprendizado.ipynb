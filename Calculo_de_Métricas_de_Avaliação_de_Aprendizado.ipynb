{
  "nbformat": 4,
  "nbformat_minor": 0,
  "metadata": {
    "colab": {
      "provenance": []
    },
    "kernelspec": {
      "name": "python3",
      "display_name": "Python 3"
    },
    "language_info": {
      "name": "python"
    }
  },
  "cells": [
    {
      "cell_type": "code",
      "source": [
        "from tensorflow.keras import datasets, layers, models\n",
        "import matplotlib.pyplot as plt\n",
        "import tensorflow as tf\n",
        "import numpy as np\n",
        "import seaborn as sns\n",
        "import pandas as pd"
      ],
      "metadata": {
        "id": "AOm6K9kYr5qy"
      },
      "execution_count": 21,
      "outputs": []
    },
    {
      "cell_type": "code",
      "source": [
        "%load_ext tensorboard"
      ],
      "metadata": {
        "id": "Bbg8OMH1so7l",
        "colab": {
          "base_uri": "https://localhost:8080/"
        },
        "outputId": "fe2d3b61-1469-464c-fe2f-03bd5ba5ed39"
      },
      "execution_count": 22,
      "outputs": [
        {
          "output_type": "stream",
          "name": "stdout",
          "text": [
            "The tensorboard extension is already loaded. To reload it, use:\n",
            "  %reload_ext tensorboard\n"
          ]
        }
      ]
    },
    {
      "cell_type": "code",
      "source": [
        "logdir = \"log\""
      ],
      "metadata": {
        "id": "WnecKkdEs4q5"
      },
      "execution_count": 23,
      "outputs": []
    },
    {
      "cell_type": "code",
      "source": [
        "(train_images, train_labels), (test_images, test_labels) = datasets.mnist.load_data()\n",
        "\n",
        "train_images = train_images.reshape((60_000, 28, 28, 1))\n",
        "test_images = test_images.reshape((10_000, 28, 28, 1))\n",
        "\n",
        "train_images, test_images = train_images / 255.0, test_images / 255.0\n",
        "\n",
        "classes = list(range(10))"
      ],
      "metadata": {
        "id": "pqPlUv-vs6eR"
      },
      "execution_count": 24,
      "outputs": []
    },
    {
      "cell_type": "code",
      "source": [
        "model = models.Sequential()\n",
        "model.add(layers.Conv2D(32, (3, 3), activation=\"relu\", input_shape=(28, 28, 1)))\n",
        "model.add(layers.MaxPooling2D((2, 2)))\n",
        "model.add(layers.Conv2D(64, (3, 3), activation=\"relu\"))\n",
        "model.add(layers.MaxPooling2D((2, 2)))\n",
        "model.add(layers.Conv2D(64, (3, 3), activation=\"relu\"))\n",
        "\n",
        "model.add(layers.Flatten())\n",
        "model.add(layers.Dense(64, activation=\"relu\"))\n",
        "model.add(layers.Dense(10, activation=\"softmax\"))"
      ],
      "metadata": {
        "id": "VDBRcwywtPLI"
      },
      "execution_count": 25,
      "outputs": []
    },
    {
      "cell_type": "code",
      "source": [
        "tensorboard_callback = tf.keras.callbacks.TensorBoard(logdir, histogram_freq=1)"
      ],
      "metadata": {
        "id": "7MCxh1hMBoC8"
      },
      "execution_count": 26,
      "outputs": []
    },
    {
      "cell_type": "code",
      "source": [
        "model.compile(optimizer=\"adam\", loss=\"sparse_categorical_crossentropy\", metrics=[\"accuracy\"])\n",
        "\n",
        "model.fit(x=train_images, y=train_labels, epochs=5, validation_data=(test_images, test_labels))"
      ],
      "metadata": {
        "colab": {
          "base_uri": "https://localhost:8080/"
        },
        "id": "hOFDgdUEBzaY",
        "outputId": "ce0f8776-810f-4fbf-bc3a-6e9dd533bcc1"
      },
      "execution_count": 27,
      "outputs": [
        {
          "output_type": "stream",
          "name": "stdout",
          "text": [
            "Epoch 1/5\n",
            "1875/1875 [==============================] - 96s 51ms/step - loss: 0.1480 - accuracy: 0.9547 - val_loss: 0.0636 - val_accuracy: 0.9807\n",
            "Epoch 2/5\n",
            "1875/1875 [==============================] - 96s 51ms/step - loss: 0.0463 - accuracy: 0.9855 - val_loss: 0.0404 - val_accuracy: 0.9876\n",
            "Epoch 3/5\n",
            "1875/1875 [==============================] - 126s 67ms/step - loss: 0.0330 - accuracy: 0.9898 - val_loss: 0.0327 - val_accuracy: 0.9894\n",
            "Epoch 4/5\n",
            "1875/1875 [==============================] - 99s 53ms/step - loss: 0.0242 - accuracy: 0.9924 - val_loss: 0.0357 - val_accuracy: 0.9898\n",
            "Epoch 5/5\n",
            "1875/1875 [==============================] - 83s 44ms/step - loss: 0.0204 - accuracy: 0.9934 - val_loss: 0.0370 - val_accuracy: 0.9888\n"
          ]
        },
        {
          "output_type": "execute_result",
          "data": {
            "text/plain": [
              "<keras.callbacks.History at 0x7fbeb4ea4850>"
            ]
          },
          "metadata": {},
          "execution_count": 27
        }
      ]
    },
    {
      "cell_type": "code",
      "source": [
        "y_true = test_labels\n",
        "y_pred=model.predict(test_images) \n",
        "y_classes=np.argmax(y_pred,axis=1)\n"
      ],
      "metadata": {
        "colab": {
          "base_uri": "https://localhost:8080/"
        },
        "id": "Q2QqRnjnB9QQ",
        "outputId": "6d5a20d2-c4ed-48b4-9473-08cce990a245"
      },
      "execution_count": 29,
      "outputs": [
        {
          "output_type": "stream",
          "name": "stdout",
          "text": [
            "313/313 [==============================] - 4s 14ms/step\n"
          ]
        }
      ]
    },
    {
      "cell_type": "code",
      "source": [
        "classes = list(range(10))"
      ],
      "metadata": {
        "id": "LTIrLdarCpDo"
      },
      "execution_count": 30,
      "outputs": []
    },
    {
      "cell_type": "code",
      "source": [
        "con_mat = tf.math.confusion_matrix(labels=y_true, predictions=y_classes).numpy()\n",
        "con_mat_norm = np.around(con_mat.astype(\"float\") / con_mat.sum(axis=1)[:, np.newaxis], decimals=2)\n",
        "\n",
        "con_mat_df = pd.DataFrame(con_mat_norm, index=classes, columns=classes)\n",
        "\n",
        "figure = plt.figure(figsize=(8, 8))\n",
        "sns.heatmap(con_mat_df, annot=True, cmap=plt.cm.Blues)\n",
        "plt.tight_layout()\n",
        "plt.ylabel(\"True label\")\n",
        "plt.xlabel(\"Predicted label\")\n",
        "plt.show()"
      ],
      "metadata": {
        "colab": {
          "base_uri": "https://localhost:8080/",
          "height": 599
        },
        "id": "ifWm_q22CxwZ",
        "outputId": "2df3add3-8d46-411f-eadf-a73c57170f1e"
      },
      "execution_count": 34,
      "outputs": [
        {
          "output_type": "display_data",
          "data": {
            "text/plain": [
              "<Figure size 576x576 with 2 Axes>"
            ],
            "image/png": "[encoded data removed]"
          },
          "metadata": {
            "needs_background": "light"
          }
        }
      ]
    },
    {
      "cell_type": "code",
      "source": [
        "con_mat"
      ],
      "metadata": {
        "colab": {
          "base_uri": "https://localhost:8080/"
        },
        "id": "oqoxDWiZDgCJ",
        "outputId": "80f28dad-767e-47de-b7f2-ba556d396cda"
      },
      "execution_count": 35,
      "outputs": [
        {
          "output_type": "execute_result",
          "data": {
            "text/plain": [
              "array([[ 976,    1,    0,    0,    0,    0,    2,    1,    0,    0],\n",
              "       [   0, 1129,    1,    2,    0,    0,    0,    1,    2,    0],\n",
              "       [   2,    1, 1017,    6,    0,    0,    0,    5,    1,    0],\n",
              "       [   0,    0,    1, 1008,    0,    1,    0,    0,    0,    0],\n",
              "       [   0,    1,    2,    0,  950,    0,    3,    3,    0,   23],\n",
              "       [   1,    0,    0,   10,    0,  876,    1,    0,    2,    2],\n",
              "       [   5,    2,    0,    0,    1,    2,  945,    0,    3,    0],\n",
              "       [   0,    1,    1,    0,    0,    0,    0, 1022,    1,    3],\n",
              "       [   1,    0,    2,    1,    0,    0,    0,    2,  966,    2],\n",
              "       [   0,    2,    0,    1,    1,    2,    0,    0,    4,  999]],\n",
              "      dtype=int32)"
            ]
          },
          "metadata": {},
          "execution_count": 35
        }
      ]
    },
    {
      "cell_type": "code",
      "source": [
        "f1s = [0, 0, 0]\n",
        "\n",
        "y_true = tf.cast(y_true, tf.float64)\n",
        "y_pred = tf.cast(y_pred, tf.float64)\n",
        "\n",
        "for i, axis in enumerate([None, 0]):\n",
        "    TP = tf.math.count_nonzero(y_classes * y_true, axis=axis)\n",
        "    TN = tf.math.count_nonzero((y_classes - 1) * (y_true - 1), axis=axis)\n",
        "    FP = tf.math.count_nonzero(y_classes * (y_true - 1), axis=axis)\n",
        "    FN = tf.math.count_nonzero((y_classes - 1) * y_true, axis=axis)\n",
        "\n",
        "    acuracia = (TP+TN)/(TP+TN+FP+FN)\n",
        "    sensibilidade = TP / (TP + FN)\n",
        "    especificidade = TN / (FP+TN)\n",
        "    precisao = TP / (TP + FP)\n",
        "    f1 = 2 * (precisao * sensibilidade) / (precisao + sensibilidade)\n"
      ],
      "metadata": {
        "id": "BN0JwSH_GdFI"
      },
      "execution_count": 68,
      "outputs": []
    },
    {
      "cell_type": "code",
      "source": [
        "acuracia.numpy()"
      ],
      "metadata": {
        "colab": {
          "base_uri": "https://localhost:8080/"
        },
        "id": "wr9-8x54HgvK",
        "outputId": "80e0c08e-4967-4249-c463-13c14fd2d412"
      },
      "execution_count": 70,
      "outputs": [
        {
          "output_type": "execute_result",
          "data": {
            "text/plain": [
              "0.5312797335870599"
            ]
          },
          "metadata": {},
          "execution_count": 70
        }
      ]
    },
    {
      "cell_type": "code",
      "source": [
        "sensibilidade.numpy()"
      ],
      "metadata": {
        "colab": {
          "base_uri": "https://localhost:8080/"
        },
        "id": "ljuwfsbQHtOg",
        "outputId": "69ada320-21e7-41e2-b0d3-de7f7c980168"
      },
      "execution_count": 71,
      "outputs": [
        {
          "output_type": "execute_result",
          "data": {
            "text/plain": [
              "0.5333530630364013"
            ]
          },
          "metadata": {},
          "execution_count": 71
        }
      ]
    },
    {
      "cell_type": "code",
      "source": [
        "especificidade.numpy()"
      ],
      "metadata": {
        "colab": {
          "base_uri": "https://localhost:8080/"
        },
        "id": "SLzuyUnEJdCQ",
        "outputId": "4ffc3496-6fb0-4329-a937-7ae1a2f7d11e"
      },
      "execution_count": 72,
      "outputs": [
        {
          "output_type": "execute_result",
          "data": {
            "text/plain": [
              "0.5291868315707714"
            ]
          },
          "metadata": {},
          "execution_count": 72
        }
      ]
    },
    {
      "cell_type": "code",
      "source": [
        "precisao.numpy()"
      ],
      "metadata": {
        "colab": {
          "base_uri": "https://localhost:8080/"
        },
        "id": "kLKhcPTOKzNP",
        "outputId": "adebc608-1571-487d-cd5e-7f20358b97a8"
      },
      "execution_count": 73,
      "outputs": [
        {
          "output_type": "execute_result",
          "data": {
            "text/plain": [
              "0.5334793677106151"
            ]
          },
          "metadata": {},
          "execution_count": 73
        }
      ]
    },
    {
      "cell_type": "code",
      "source": [
        "f1.numpy()"
      ],
      "metadata": {
        "colab": {
          "base_uri": "https://localhost:8080/"
        },
        "id": "sOgEiaQIK5hZ",
        "outputId": "61957080-8698-468d-d27b-e65ee6cdc71a"
      },
      "execution_count": 74,
      "outputs": [
        {
          "output_type": "execute_result",
          "data": {
            "text/plain": [
              "0.5334162078967619"
            ]
          },
          "metadata": {},
          "execution_count": 74
        }
      ]
    },
    {
      "cell_type": "code",
      "source": [],
      "metadata": {
        "id": "4C6KnqCLK60j"
      },
      "execution_count": null,
      "outputs": []
    }
  ]
}